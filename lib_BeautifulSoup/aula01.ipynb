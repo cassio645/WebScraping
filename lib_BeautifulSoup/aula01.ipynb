{
 "cells": [
  {
   "cell_type": "code",
   "execution_count": 1,
   "metadata": {},
   "outputs": [],
   "source": [
    "import requests\n",
    "from bs4 import BeautifulSoup"
   ]
  },
  {
   "cell_type": "code",
   "execution_count": 2,
   "metadata": {},
   "outputs": [],
   "source": [
    "response = requests.get(\"https://g1.globo.com/\")\n",
    "\n",
    "site = BeautifulSoup(response.content, 'html.parser')\n"
   ]
  },
  {
   "cell_type": "code",
   "execution_count": 3,
   "metadata": {},
   "outputs": [
    {
     "name": "stdout",
     "output_type": "stream",
     "text": [
      "<div class=\"feed-post-body\">\n",
      " <div class=\"feed-post-header with-post-chapeu\">\n",
      "  <span class=\"feed-post-header-chapeu\">\n",
      "   Acre\n",
      "  </span>\n",
      " </div>\n",
      " <div class=\"feed-post-body-title gui-color-primary gui-color-hover\">\n",
      "  <div class=\"_evt\">\n",
      "   <a class=\"feed-post-link gui-color-primary gui-color-hover\" href=\"https://g1.globo.com/ac/acre/noticia/2023/07/26/urgente-detentos-se-rebelam-em-presidio-de-seguranca-maxima-em-rio-branco.ghtml\">\n",
      "    <h2 elementtiming=\"text-ssr\">\n",
      "     Prisão de segurança máxima em Rio Branco tem rebelião com reféns\n",
      "    </h2>\n",
      "   </a>\n",
      "  </div>\n",
      " </div>\n",
      " <div class=\"feed-media-wrapper\">\n",
      "  <a class=\"feed-post-figure-link gui-image-hover\" href=\"https://g1.globo.com/ac/acre/noticia/2023/07/26/urgente-detentos-se-rebelam-em-presidio-de-seguranca-maxima-em-rio-branco.ghtml\">\n",
      "   <div class=\"bstn-fd-item-cover\">\n",
      "    <picture class=\"bstn-fd-cover-picture\">\n",
      "     <img alt=\"Prisão de segurança máxima em Rio Branco tem rebelião com reféns - Foto: (Reprodução/Rede Amazônica Acre/Arquivo )\" class=\"bstn-fd-picture-image\" elementtiming=\"image-ssr\" loading=\"lazy\" sizes=\"(min-width: 540px) 50vw, (min-width: 900px) 30vw, 100vw\" src=\"https://s2-g1.glbimg.com/CXD2fH12X6CtdO92OnqIKigrFlQ=/0x0:1000x563/540x304/smart/filters:max_age(3600)/http://s.glbimg.com/jo/g1/f/original/2017/05/29/actv_fuga_presidio.jpg\" srcset=\"https://s2-g1.glbimg.com/CXD2fH12X6CtdO92OnqIKigrFlQ=/0x0:1000x563/540x304/smart/filters:max_age(3600)/http://s.glbimg.com/jo/g1/f/original/2017/05/29/actv_fuga_presidio.jpg 540w,https://s2-g1.glbimg.com/A3FPrP5se3VMGOaDj6BAxiQs_SA=/0x0:1000x563/810x456/smart/filters:max_age(3600)/http://s.glbimg.com/jo/g1/f/original/2017/05/29/actv_fuga_presidio.jpg 810w,https://s2-g1.glbimg.com/RzXxCw_8yN8lhjbofACuHUyyWrI=/0x0:1000x563/1080x608/smart/filters:max_age(3600)/http://s.glbimg.com/jo/g1/f/original/2017/05/29/actv_fuga_presidio.jpg 1080w\" title=\"Prisão de segurança máxima em Rio Branco tem rebelião com reféns - Foto: (Reprodução/Rede Amazônica Acre/Arquivo )\"/>\n",
      "    </picture>\n",
      "   </div>\n",
      "  </a>\n",
      " </div>\n",
      " <div class=\"feed-post-metadata\">\n",
      "  <span class=\"feed-post-datetime\">\n",
      "   Há 4 minutos\n",
      "  </span>\n",
      "  <span class=\"feed-post-metadata-section\">\n",
      "   Acre\n",
      "  </span>\n",
      " </div>\n",
      "</div>\n"
     ]
    }
   ],
   "source": [
    "# Pegando todo conteudo da notifica, toda a div\n",
    "noticia = site.find('div', attrs={'class': 'feed-post-body'})\n",
    "print(noticia.prettify())"
   ]
  },
  {
   "cell_type": "code",
   "execution_count": 4,
   "metadata": {},
   "outputs": [
    {
     "data": {
      "text/plain": [
       "'Prisão de segurança máxima em Rio Branco tem rebelião com reféns'"
      ]
     },
     "execution_count": 4,
     "metadata": {},
     "output_type": "execute_result"
    }
   ],
   "source": [
    "# PEgando somente o titulo da noticia\n",
    "\n",
    "titulo = noticia.find(\"a\", attrs={\"class\": \"feed-post-link\"})\n",
    "titulo.text"
   ]
  },
  {
   "cell_type": "code",
   "execution_count": 6,
   "metadata": {},
   "outputs": [],
   "source": [
    "# Pegando o subtitulo da noticia\n",
    "\n",
    "subtitulo = noticia.find(\"div\", attrs={\"class\": \"feed-post-body-resumo\"})\n",
    "subtitulo"
   ]
  },
  {
   "cell_type": "code",
   "execution_count": 8,
   "metadata": {},
   "outputs": [
    {
     "data": {
      "text/plain": [
       "'Acre'"
      ]
     },
     "execution_count": 8,
     "metadata": {},
     "output_type": "execute_result"
    }
   ],
   "source": [
    "header = noticia.find(\"span\", attrs={\"class\": \"feed-post-header-chapeu\"})\n",
    "header.text"
   ]
  },
  {
   "cell_type": "code",
   "execution_count": 12,
   "metadata": {},
   "outputs": [
    {
     "data": {
      "text/html": [
       "<div>\n",
       "<style scoped>\n",
       "    .dataframe tbody tr th:only-of-type {\n",
       "        vertical-align: middle;\n",
       "    }\n",
       "\n",
       "    .dataframe tbody tr th {\n",
       "        vertical-align: top;\n",
       "    }\n",
       "\n",
       "    .dataframe thead th {\n",
       "        text-align: right;\n",
       "    }\n",
       "</style>\n",
       "<table border=\"1\" class=\"dataframe\">\n",
       "  <thead>\n",
       "    <tr style=\"text-align: right;\">\n",
       "      <th></th>\n",
       "      <th>titulo</th>\n",
       "      <th>link</th>\n",
       "      <th>subtitulo</th>\n",
       "    </tr>\n",
       "  </thead>\n",
       "  <tbody>\n",
       "    <tr>\n",
       "      <th>0</th>\n",
       "      <td>ASSISTA: Polícia detalha denúncias de estupro ...</td>\n",
       "      <td>https://g1.globo.com/pe/pernambuco/ao-vivo/ao-...</td>\n",
       "      <td>NaN</td>\n",
       "    </tr>\n",
       "    <tr>\n",
       "      <th>1</th>\n",
       "      <td>Rebelião em presídio de segurança máxima tem p...</td>\n",
       "      <td>https://g1.globo.com/ac/acre/noticia/2023/07/2...</td>\n",
       "      <td>Outro agente penitenciário ficou ferido.</td>\n",
       "    </tr>\n",
       "    <tr>\n",
       "      <th>2</th>\n",
       "      <td>Como funcionam as canetas que combatem diabete...</td>\n",
       "      <td>https://g1.globo.com/saude/noticia/2023/07/26/...</td>\n",
       "      <td>NaN</td>\n",
       "    </tr>\n",
       "    <tr>\n",
       "      <th>3</th>\n",
       "      <td>Caso Marielle: PF desconfia de versão do delat...</td>\n",
       "      <td>https://g1.globo.com/politica/blog/camila-bomf...</td>\n",
       "      <td>Investigadores acreditam que Ronnie Lessa ment...</td>\n",
       "    </tr>\n",
       "    <tr>\n",
       "      <th>4</th>\n",
       "      <td>Nubank passa o BB em clientes e vira o 4º maio...</td>\n",
       "      <td>https://g1.globo.com/economia/negocios/noticia...</td>\n",
       "      <td>NaN</td>\n",
       "    </tr>\n",
       "    <tr>\n",
       "      <th>5</th>\n",
       "      <td>Queda de guindaste, morte de baleias, o café p...</td>\n",
       "      <td>https://g1.globo.com/playlist/videos-para-assi...</td>\n",
       "      <td>NaN</td>\n",
       "    </tr>\n",
       "    <tr>\n",
       "      <th>6</th>\n",
       "      <td>Dilma se reúne com Putin como presidente do ba...</td>\n",
       "      <td>https://g1.globo.com/mundo/noticia/2023/07/26/...</td>\n",
       "      <td>Brasileira negou que instituição esteja consid...</td>\n",
       "    </tr>\n",
       "  </tbody>\n",
       "</table>\n",
       "</div>"
      ],
      "text/plain": [
       "                                              titulo  \\\n",
       "0  ASSISTA: Polícia detalha denúncias de estupro ...   \n",
       "1  Rebelião em presídio de segurança máxima tem p...   \n",
       "2  Como funcionam as canetas que combatem diabete...   \n",
       "3  Caso Marielle: PF desconfia de versão do delat...   \n",
       "4  Nubank passa o BB em clientes e vira o 4º maio...   \n",
       "5  Queda de guindaste, morte de baleias, o café p...   \n",
       "6  Dilma se reúne com Putin como presidente do ba...   \n",
       "\n",
       "                                                link  \\\n",
       "0  https://g1.globo.com/pe/pernambuco/ao-vivo/ao-...   \n",
       "1  https://g1.globo.com/ac/acre/noticia/2023/07/2...   \n",
       "2  https://g1.globo.com/saude/noticia/2023/07/26/...   \n",
       "3  https://g1.globo.com/politica/blog/camila-bomf...   \n",
       "4  https://g1.globo.com/economia/negocios/noticia...   \n",
       "5  https://g1.globo.com/playlist/videos-para-assi...   \n",
       "6  https://g1.globo.com/mundo/noticia/2023/07/26/...   \n",
       "\n",
       "                                           subtitulo  \n",
       "0                                                NaN  \n",
       "1           Outro agente penitenciário ficou ferido.  \n",
       "2                                                NaN  \n",
       "3  Investigadores acreditam que Ronnie Lessa ment...  \n",
       "4                                                NaN  \n",
       "5                                                NaN  \n",
       "6  Brasileira negou que instituição esteja consid...  "
      ]
     },
     "execution_count": 12,
     "metadata": {},
     "output_type": "execute_result"
    }
   ],
   "source": [
    "import pandas as pd\n",
    "\n",
    "df = pd.read_csv(\"./noticias.csv\", sep=';')\n",
    "df"
   ]
  }
 ],
 "metadata": {
  "kernelspec": {
   "display_name": "base",
   "language": "python",
   "name": "python3"
  },
  "language_info": {
   "codemirror_mode": {
    "name": "ipython",
    "version": 3
   },
   "file_extension": ".py",
   "mimetype": "text/x-python",
   "name": "python",
   "nbconvert_exporter": "python",
   "pygments_lexer": "ipython3",
   "version": "3.9.13"
  },
  "orig_nbformat": 4
 },
 "nbformat": 4,
 "nbformat_minor": 2
}
